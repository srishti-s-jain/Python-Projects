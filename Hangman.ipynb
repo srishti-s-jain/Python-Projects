{
  "nbformat": 4,
  "nbformat_minor": 0,
  "metadata": {
    "colab": {
      "name": "Hangman.ipynb",
      "provenance": []
    },
    "kernelspec": {
      "name": "python3",
      "display_name": "Python 3"
    },
    "language_info": {
      "name": "python"
    }
  },
  "cells": [
    {
      "cell_type": "code",
      "source": [
        "#import import random module\n",
        "import random\n",
        "\n",
        "# make a list that contains random words to be guessed by the user\n",
        "words = ['laptop','grocery','pencil','weather','rainbow','mountain','utensil','screen','clouds','keyboard','python','gamer','mouse','speaker','cheater','dashboard','car','spot','paper','recliner','funny','suspence','hunger','cake']\n",
        "\n",
        "#randomize the list and and store a word in a variable\n",
        "r_word = random.choice(words)\n",
        "\n",
        "#the number of guesses a participant gets is fixed\n",
        "n_guess = 8\n",
        "name = input('Name: ')\n",
        "print('Hello ', name )\n",
        "print(\"Guess the word of the day. You will be given hint. Guess the word in 8 chances by guessing one letter at a time.\")\n",
        "print('One chance will be deducted for each wrong guess and invalid input.')\n",
        "print(\" \")\n",
        "print(\"You get \", n_guess,\"to guess the word\")\n",
        "#create an empty list to store the words guessed by the user\n",
        "g_word = []\n",
        "\n",
        "#guessed to be intialized as false\n",
        "guessed =False\n",
        "while guessed == False and n_guess>0:\n",
        "\tprint(\"You have\",n_guess,\"guesses left to guess the word\")\n",
        "\tguess = input(\"Guess a letter in the word.\".lower())\n",
        "\tif len(guess) ==1:\n",
        "\t\tif guess in g_word:\n",
        "\t\t\tprint(\"you already guessed this letter\")\n",
        "\t\telif guess in r_word:\n",
        "\t\t\tprint(\"cool!, you found a letter\")\n",
        "\t\t\tg_word.append(guess)\n",
        "\t\telif guess not in r_word:\n",
        "\t\t\tprint(\"sorry the letter is not present in the word\")\n",
        "\t\t\tg_word.append(guess)\n",
        "\t\t\tn_guess -= 1\n",
        "\t\telse:\n",
        "\t\t\t(\"you might have given a wrong entery\")\n",
        "\n",
        "\telse:\n",
        "\t\tprint(\"Guess one letter at a time.\")\n",
        "\t\tn_guess -=1\n",
        "\tword_pos =''\n",
        "\tif guessed == False:\n",
        "\t\tfor letter in r_word:\n",
        "\t\t\tif letter in g_word:\n",
        "\t\t\t\tword_pos = word_pos+letter\n",
        "\t\t\telse:\n",
        "\t\t\t\tword_pos =word_pos+'_'\n",
        "\t\tprint(word_pos)\n",
        "\n",
        "\tif word_pos == r_word:\n",
        "\t\tprint(\"hooray, you guessed the word\")\n",
        "\t\tguessed= True\n",
        "\telif n_guess == 0:\n",
        "\t\tprint(\" no more guesses left, try again later\")\n",
        "\t\tprint(\"the word to be guessed is:\",r_word)"
      ],
      "metadata": {
        "colab": {
          "base_uri": "https://localhost:8080/"
        },
        "id": "f4uzsQTLeOQE",
        "outputId": "b3e3f5f5-2540-4299-de00-4d6426e2b1d4"
      },
      "execution_count": 32,
      "outputs": [
        {
          "output_type": "stream",
          "name": "stdout",
          "text": [
            "Name: Samrat\n",
            "Hello  Samrat\n",
            "Guess the word of the day. You will be given hint. Guess the word in 8 chances by guessing one letter at a time.\n",
            "One chance will be deducted for each wrong guess and invalid input.\n",
            " \n",
            "You get  8 to guess the word\n",
            "You have 8 guesses left to guess the word\n",
            "guess a letter in the word.s\n",
            "cool!, you found a letter\n",
            "s_____\n",
            "You have 8 guesses left to guess the word\n",
            "guess a letter in the word.p\n",
            "sorry the letter is not present in the word\n",
            "s_____\n",
            "You have 7 guesses left to guess the word\n",
            "guess a letter in the word.a\n",
            "sorry the letter is not present in the word\n",
            "s_____\n",
            "You have 6 guesses left to guess the word\n",
            "guess a letter in the word.e\n",
            "cool!, you found a letter\n",
            "s__ee_\n",
            "You have 6 guesses left to guess the word\n",
            "guess a letter in the word.l\n",
            "sorry the letter is not present in the word\n",
            "s__ee_\n",
            "You have 5 guesses left to guess the word\n",
            "guess a letter in the word.r\n",
            "cool!, you found a letter\n",
            "s_ree_\n",
            "You have 5 guesses left to guess the word\n",
            "guess a letter in the word.n\n",
            "cool!, you found a letter\n",
            "s_reen\n",
            "You have 5 guesses left to guess the word\n",
            "guess a letter in the word.c\n",
            "cool!, you found a letter\n",
            "screen\n",
            "hooray, you guessed the word\n"
          ]
        }
      ]
    }
  ]
}